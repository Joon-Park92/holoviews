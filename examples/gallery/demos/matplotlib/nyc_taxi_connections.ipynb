{
 "cells": [
  {
   "cell_type": "markdown",
   "metadata": {},
   "source": [
    "Most examples work across multiple plotting backends, this example is also available for:\n",
    "\n",
    "* [Bokeh NYC Taxi Connection](../bokeh/nyc_taxi_connections.ipynb)"
   ]
  },
  {
   "cell_type": "code",
   "execution_count": null,
   "metadata": {},
   "outputs": [],
   "source": [
    "import numpy as np\n",
    "import networkx as nx\n",
    "import holoviews as hv\n",
    "from holoviews import dim\n",
    "\n",
    "from holoviews.element.graphs import layout_nodes\n",
    "from bokeh.sampledata.airport_routes import routes, airports\n",
    "\n",
    "hv.extension('matplotlib')\n",
    "%output fig='svg' size=300"
   ]
  },
  {
   "cell_type": "markdown",
   "metadata": {},
   "source": [
    "## Declare data"
   ]
  },
  {
   "cell_type": "code",
   "execution_count": null,
   "metadata": {},
   "outputs": [],
   "source": [
    "# Create dataset indexed by AirportID and with additional value dimension\n",
    "airports = hv.Dataset(airports, ['AirportID'], ['Name', 'IATA', 'City'])\n",
    "source_airports = list(airports.select(City='New York').data.AirportID)\n",
    "\n",
    "# Add connections count to routes then aggregate and select just routes connecting to NYC\n",
    "routes['connections'] = 1\n",
    "nyc_graph = hv.Graph((routes, airports), ['SourceID', \"DestinationID\"], ['connections'], label='NYC Airport Connections').aggregate(function=np.count_nonzero).select(SourceID=source_airports)\n",
    "\n",
    "# Lay out graph weighting and weight by the number of connections\n",
    "np.random.seed(14)\n",
    "graph = layout_nodes(nyc_graph, layout=nx.layout.fruchterman_reingold_layout, kwargs={'weight': 'connections'})\n",
    "labels = hv.Labels(graph.nodes, ['x', 'y'], ['IATA', 'City'])\n",
    "nyc_labels = labels.select(City='New York')\n",
    "other_labels = labels[labels['City']!='New York']"
   ]
  },
  {
   "cell_type": "markdown",
   "metadata": {},
   "source": [
    "## Plot"
   ]
  },
  {
   "cell_type": "code",
   "execution_count": null,
   "metadata": {},
   "outputs": [],
   "source": [
    "cmap={3697: 'red', 3797: 'blue'}\n",
    "\n",
    "plot = (\n",
    "    graph.options(\n",
    "        bgcolor='gray', edge_color=dim('SourceID').categorize(cmap, 'gray'), node_color=dim('index').categorize(cmap, 'gray'),\n",
    "        xaxis=None, yaxis=None, xlim=(-1.2, 1.2), ylim=(-1.2, 1.2)\n",
    "     ) *\n",
    "     nyc_labels.options(color='white', yoffset=0.05, size=16) *\n",
    "     other_labels.options(color='white', size=8)\n",
    ")\n",
    "\n",
    "plot.relabel('NYC Airport Connections')"
   ]
  }
 ],
 "metadata": {
  "kernelspec": {
   "display_name": "Python 3",
   "language": "python",
   "name": "python3"
  },
  "language_info": {
   "codemirror_mode": {
    "name": "ipython",
    "version": 3
   },
   "file_extension": ".py",
   "mimetype": "text/x-python",
   "name": "python",
   "nbconvert_exporter": "python",
   "pygments_lexer": "ipython3",
   "version": "3.6.6"
  }
 },
 "nbformat": 4,
 "nbformat_minor": 2
}
